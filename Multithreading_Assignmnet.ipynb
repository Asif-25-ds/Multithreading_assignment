{
 "cells": [
  {
   "cell_type": "code",
   "execution_count": 1,
   "metadata": {},
   "outputs": [],
   "source": [
    "#Problem_statement_1-What is multithreading in python? Why it is used? Name the module used to handle threads in python.\n",
    "# Imagine a program as a set of instructions that need to be carried out.\n",
    "# A single-threaded program executes these instructions one after another in a sequential manner. \n",
    "# On the other hand, a multi-threaded program divides its set of instructions into multiple threads,\n",
    "# and these threads can run concurrently, allowing for parallel execution of tasks.\n",
    "# \"This process of creating multiple threads of prorgram is termed as multithreading and the module in python which carry this,\n",
    "# is threading.\"\n",
    "# USE- It can be useful for tasks like performing computations in the background,\n",
    "#      handling user input, or managing different aspects of a program simultaneously.\n",
    "import threading"
   ]
  },
  {
   "cell_type": "code",
   "execution_count": 7,
   "metadata": {},
   "outputs": [],
   "source": [
    "#Problem_statement_2-Why threading module is used?\n",
    "# threading module in python is used to create and manage threads in python.\n",
    "# activeCount() -It returns the no. of threads object that are running or(alive).\n",
    "a=threading.active_count()\n",
    "# currentThread()-It returns the current thread object.\n",
    "b = threading.current_thread()\n",
    "# enumerate()- It returns the list of current threads that are alive. \n",
    "c = threading.enumerate()"
   ]
  },
  {
   "cell_type": "code",
   "execution_count": 9,
   "metadata": {},
   "outputs": [
    {
     "name": "stdout",
     "output_type": "stream",
     "text": [
      "Your no. of current threads that are alive is 6\n",
      "Your current thread is <_MainThread(MainThread, started 22232)>\n",
      "Your list of threds the are alive is[<_MainThread(MainThread, started 22232)>, <Thread(IOPub, started daemon 9924)>, <Heartbeat(Heartbeat, started daemon 15528)>, <ControlThread(Control, started daemon 23768)>, <HistorySavingThread(IPythonHistorySavingThread, started 23864)>, <ParentPollerWindows(Thread-4, started daemon 4404)>]\n"
     ]
    }
   ],
   "source": [
    "print(\"Your no. of current threads that are alive is {}\".format(a))\n",
    "print(\"Your current thread is {}\".format(b))\n",
    "print(\"Your list of threds the are alive is{}\".format(c))"
   ]
  },
  {
   "cell_type": "code",
   "execution_count": 11,
   "metadata": {},
   "outputs": [],
   "source": [
    "#Aswer of statement_3:\n",
    "#run()-It is a user-defined method which contains all the code which we want to execute when a thread is created.\n",
    "#start()-It is used to begin the execution of the thread.It sets the system resources and then invokes the thread to run.\n",
    "#join()-This function is used to wait for the thread that is currently running to complete it's execution before going \n",
    "# to next part of the Program.\n",
    "#isAlive()-This function will return TRUE if thread is still running and returns FALSE otherwise.\n",
    "#code example:-"
   ]
  },
  {
   "cell_type": "code",
   "execution_count": 79,
   "metadata": {},
   "outputs": [
    {
     "name": "stdout",
     "output_type": "stream",
     "text": [
      "Thread is running..\n"
     ]
    },
    {
     "data": {
      "text/plain": [
       "False"
      ]
     },
     "execution_count": 79,
     "metadata": {},
     "output_type": "execute_result"
    }
   ],
   "source": [
    "class thread(threading.Thread):\n",
    "    def run(self):\n",
    "        print(\"Thread is running..\")\n",
    "\n",
    "thread1=thread()\n",
    "thread1.start()\n",
    "thread1.join()#if we don't do this the next line will return TRUE\n",
    "thread1.is_alive()"
   ]
  },
  {
   "cell_type": "code",
   "execution_count": 51,
   "metadata": {},
   "outputs": [],
   "source": [
    "def test(id):\n",
    "    for i in range(4):\n",
    "        print(\"Test function starts at index %d with id %d\"%(i,id))"
   ]
  },
  {
   "cell_type": "code",
   "execution_count": 72,
   "metadata": {},
   "outputs": [],
   "source": [
    "import threading\n",
    "thread2=[threading.Thread(target=test,args=(t,)) for t in [111,222,333]]\n",
    "thread3=[threading.Thread(target=test,args=(t,)) for t in [1111,2222,3333]]"
   ]
  },
  {
   "cell_type": "code",
   "execution_count": 73,
   "metadata": {},
   "outputs": [
    {
     "name": "stdout",
     "output_type": "stream",
     "text": [
      "Test function starts at index 0 with id 111\n",
      "Test function starts at index 1 with id 111\n",
      "Test function starts at index 2 with id 111\n",
      "Test function starts at index 3 with id 111\n",
      "Test function starts at index 0 with id 222\n",
      "Test function starts at index 1 with id 222\n",
      "Test function starts at index 2 with id 222\n",
      "Test function starts at index 3 with id 222\n",
      "Test function starts at index 0 with id 333\n",
      "Test function starts at index 1 with id 333\n",
      "Test function starts at index 2 with id 333\n",
      "Test function starts at index 3 with id 333\n"
     ]
    }
   ],
   "source": [
    "for i in thread2 :\n",
    "    i.start()\n",
    "\n",
    "for i in thread2 :\n",
    "    i.join()\n"
   ]
  },
  {
   "cell_type": "code",
   "execution_count": 74,
   "metadata": {},
   "outputs": [
    {
     "name": "stdout",
     "output_type": "stream",
     "text": [
      "Test function starts at index 0 with id 1111\n",
      "Test function starts at index 1 with id 1111\n",
      "Test function starts at index 2 with id 1111\n",
      "Test function starts at index 3 with id 1111\n",
      "Test function starts at index 0 with id 2222\n",
      "Test function starts at index 1 with id 2222\n",
      "Test function starts at index 2 with id 2222\n",
      "Test function starts at index 3 with id 2222\n",
      "Test function starts at index 0 with id 3333\n",
      "Test function starts at index 1 with id 3333\n",
      "Test function starts at index 2 with id 3333\n",
      "Test function starts at index 3 with id 3333\n"
     ]
    }
   ],
   "source": [
    "for i in thread3:\n",
    "    i.start()\n",
    "for i in thread3 :\n",
    "    i.join()"
   ]
  },
  {
   "cell_type": "code",
   "execution_count": 16,
   "metadata": {},
   "outputs": [
    {
     "name": "stdout",
     "output_type": "stream",
     "text": [
      "[1, 4, 9, 16, 25]\n",
      "[1, 8, 27, 64, 125]\n"
     ]
    }
   ],
   "source": [
    "#Problem_statement_4-Python program to create 2 threads.thread1 must print the list of squares and thread2 must print list of cubes\n",
    "import threading\n",
    "list_sqaure=[]\n",
    "list_cube=[]\n",
    "def squares(id):\n",
    "    for i in range(1,id+1):\n",
    "        list_sqaure.append(i*i)\n",
    "    print(list_sqaure)\n",
    "def cube(id):\n",
    "    for i in range(1,id+1):\n",
    "        list_cube.append(i*i*i)\n",
    "    print(list_cube)\n",
    "t1=threading.Thread(target=squares,args=(int(input(\"Enter number upto which you need squares:-\")),))\n",
    "t2=threading.Thread(target=cube,args=(int(input(\"Enter number upto which you need cubes:-\")),))\n",
    "t1.start()\n",
    "t2.start()\n",
    "t1.join()\n",
    "t2.join()"
   ]
  },
  {
   "cell_type": "code",
   "execution_count": null,
   "metadata": {},
   "outputs": [],
   "source": [
    "#Advantages of multithreading:-\n",
    "# Threading allows multiple threads to execute concurrently\n",
    "# Threads within the same process share the same memory space\n",
    "\n",
    "#DisAdvantages of multithreading:-\n",
    "# Issues like dead lock and race condition occurs.\n",
    "# the Global Interpreter Lock (GIL) ensures that only one thread executes Python bytecode at a time. "
   ]
  },
  {
   "cell_type": "code",
   "execution_count": 17,
   "metadata": {},
   "outputs": [],
   "source": [
    "# DEAD_LOCK-It occurs when two threads depend upon each other , one will run when the  data by other is released and when this \n",
    "# case goes through a situation when both need the resourse at the same time to run , then both threads will get blocked.\n",
    "# to prevent this avoid circular dependencies on resources.\n",
    "\n",
    "# RACE_CONDITIONS- This occurs when the program is dependent on the timing of execution of multiple threads.\n",
    "# For example:- Suppose two thread hit a resourse at the same time then each thread will hit the resource either in same way or \n",
    "# different,but the result is the output is unpredictable."
   ]
  },
  {
   "cell_type": "code",
   "execution_count": null,
   "metadata": {},
   "outputs": [],
   "source": []
  }
 ],
 "metadata": {
  "kernelspec": {
   "display_name": "Python 3",
   "language": "python",
   "name": "python3"
  },
  "language_info": {
   "codemirror_mode": {
    "name": "ipython",
    "version": 3
   },
   "file_extension": ".py",
   "mimetype": "text/x-python",
   "name": "python",
   "nbconvert_exporter": "python",
   "pygments_lexer": "ipython3",
   "version": "3.11.7"
  }
 },
 "nbformat": 4,
 "nbformat_minor": 2
}
